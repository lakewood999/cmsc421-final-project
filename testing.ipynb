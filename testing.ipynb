{
 "cells": [
  {
   "cell_type": "code",
   "execution_count": 166,
   "metadata": {},
   "outputs": [],
   "source": [
    "from transformers import AutoModelForSequenceClassification\n",
    "from transformers import AutoTokenizer, AutoConfig\n",
    "import flair\n",
    "from flair.data import Sentence\n",
    "from flair.nn import Classifier\n",
    "import nltk\n",
    "from nltk.sentiment import SentimentIntensityAnalyzer\n",
    "import pandas as pd\n",
    "from scipy.special import softmax\n",
    "import seaborn as sns\n",
    "import matplotlib.pyplot as plt\n",
    "import time"
   ]
  },
  {
   "cell_type": "code",
   "execution_count": 151,
   "metadata": {},
   "outputs": [
    {
     "name": "stderr",
     "output_type": "stream",
     "text": [
      "/Users/shasankpatel/Library/CloudStorage/OneDrive-UniversityofMaryland/SPRING24/CMSC421/cmsc421-final-project/.venv/lib/python3.10/site-packages/huggingface_hub/file_download.py:1132: FutureWarning: `resume_download` is deprecated and will be removed in version 1.0.0. Downloads always resume when possible. If you want to force a new download, use `force_download=True`.\n",
      "  warnings.warn(\n",
      "[nltk_data] Downloading package vader_lexicon to\n",
      "[nltk_data]     /Users/shasankpatel/nltk_data...\n",
      "[nltk_data]   Package vader_lexicon is already up-to-date!\n"
     ]
    }
   ],
   "source": [
    "# Dataset of reddit comments with an analysis score of 1, 0, or -1\n",
    "df = pd.read_csv('Reddit_Data.csv')\n",
    "df['clean_comment'] = df['clean_comment'].astype(str)\n",
    "df['clean_comment'] = df['clean_comment'].apply(lambda x: x.strip())\n",
    "df = df[df['clean_comment'] != '']\n",
    "df.reset_index(drop=True, inplace=True)\n",
    "\n",
    "# Load the sentiment analysis model - for hugging face\n",
    "model_path = \"cardiffnlp/twitter-roberta-base-sentiment-latest\"\n",
    "tokenizer = AutoTokenizer.from_pretrained(model_path)\n",
    "config = AutoConfig.from_pretrained(model_path)\n",
    "# PT\n",
    "model = AutoModelForSequenceClassification.from_pretrained(model_path)\n",
    "\n",
    "# Load the sentiment analysis model - for flair\n",
    "tagger = Classifier.load('sentiment')\n",
    "\n",
    "# Load the model for NLTK\n",
    "# only download if not already downloaded\n",
    "nltk.download('vader_lexicon')\n",
    "sia = SentimentIntensityAnalyzer()"
   ]
  },
  {
   "cell_type": "code",
   "execution_count": 152,
   "metadata": {},
   "outputs": [
    {
     "data": {
      "text/html": [
       "<div>\n",
       "<style scoped>\n",
       "    .dataframe tbody tr th:only-of-type {\n",
       "        vertical-align: middle;\n",
       "    }\n",
       "\n",
       "    .dataframe tbody tr th {\n",
       "        vertical-align: top;\n",
       "    }\n",
       "\n",
       "    .dataframe thead th {\n",
       "        text-align: right;\n",
       "    }\n",
       "</style>\n",
       "<table border=\"1\" class=\"dataframe\">\n",
       "  <thead>\n",
       "    <tr style=\"text-align: right;\">\n",
       "      <th></th>\n",
       "      <th>clean_comment</th>\n",
       "      <th>category</th>\n",
       "    </tr>\n",
       "  </thead>\n",
       "  <tbody>\n",
       "    <tr>\n",
       "      <th>0</th>\n",
       "      <td>family mormon have never tried explain them th...</td>\n",
       "      <td>1</td>\n",
       "    </tr>\n",
       "    <tr>\n",
       "      <th>1</th>\n",
       "      <td>buddhism has very much lot compatible with chr...</td>\n",
       "      <td>1</td>\n",
       "    </tr>\n",
       "    <tr>\n",
       "      <th>2</th>\n",
       "      <td>seriously don say thing first all they won get...</td>\n",
       "      <td>-1</td>\n",
       "    </tr>\n",
       "    <tr>\n",
       "      <th>3</th>\n",
       "      <td>what you have learned yours and only yours wha...</td>\n",
       "      <td>0</td>\n",
       "    </tr>\n",
       "    <tr>\n",
       "      <th>4</th>\n",
       "      <td>for your own benefit you may want read living ...</td>\n",
       "      <td>1</td>\n",
       "    </tr>\n",
       "    <tr>\n",
       "      <th>...</th>\n",
       "      <td>...</td>\n",
       "      <td>...</td>\n",
       "    </tr>\n",
       "    <tr>\n",
       "      <th>37123</th>\n",
       "      <td>jesus</td>\n",
       "      <td>0</td>\n",
       "    </tr>\n",
       "    <tr>\n",
       "      <th>37124</th>\n",
       "      <td>kya bhai pure saal chutiya banaya modi aur jab...</td>\n",
       "      <td>1</td>\n",
       "    </tr>\n",
       "    <tr>\n",
       "      <th>37125</th>\n",
       "      <td>downvote karna tha par upvote hogaya</td>\n",
       "      <td>0</td>\n",
       "    </tr>\n",
       "    <tr>\n",
       "      <th>37126</th>\n",
       "      <td>haha nice</td>\n",
       "      <td>1</td>\n",
       "    </tr>\n",
       "    <tr>\n",
       "      <th>37127</th>\n",
       "      <td>facebook itself now working bjp’ cell</td>\n",
       "      <td>0</td>\n",
       "    </tr>\n",
       "  </tbody>\n",
       "</table>\n",
       "<p>37128 rows × 2 columns</p>\n",
       "</div>"
      ],
      "text/plain": [
       "                                           clean_comment  category\n",
       "0      family mormon have never tried explain them th...         1\n",
       "1      buddhism has very much lot compatible with chr...         1\n",
       "2      seriously don say thing first all they won get...        -1\n",
       "3      what you have learned yours and only yours wha...         0\n",
       "4      for your own benefit you may want read living ...         1\n",
       "...                                                  ...       ...\n",
       "37123                                              jesus         0\n",
       "37124  kya bhai pure saal chutiya banaya modi aur jab...         1\n",
       "37125               downvote karna tha par upvote hogaya         0\n",
       "37126                                          haha nice         1\n",
       "37127              facebook itself now working bjp’ cell         0\n",
       "\n",
       "[37128 rows x 2 columns]"
      ]
     },
     "execution_count": 152,
     "metadata": {},
     "output_type": "execute_result"
    }
   ],
   "source": [
    "df"
   ]
  },
  {
   "cell_type": "code",
   "execution_count": 153,
   "metadata": {},
   "outputs": [
    {
     "name": "stderr",
     "output_type": "stream",
     "text": [
      "/var/folders/bt/llk01x0n1ds62ww5wg13kz8m0000gn/T/ipykernel_10405/2756534851.py:15: FutureWarning: A value is trying to be set on a copy of a DataFrame or Series through chained assignment using an inplace method.\n",
      "The behavior will change in pandas 3.0. This inplace method will never work because the intermediate object on which we are setting values always behaves as a copy.\n",
      "\n",
      "For example, when doing 'df[col].method(value, inplace=True)', try using 'df.method({col: value}, inplace=True)' or df[col] = df[col].method(value) instead, to perform the operation inplace on the original object.\n",
      "\n",
      "\n",
      "  df_f['sentiment_result'].replace(['POSITIVE','NEGATIVE'], [1,-1], inplace=True)\n",
      "/var/folders/bt/llk01x0n1ds62ww5wg13kz8m0000gn/T/ipykernel_10405/2756534851.py:15: FutureWarning: Downcasting behavior in `replace` is deprecated and will be removed in a future version. To retain the old behavior, explicitly call `result.infer_objects(copy=False)`. To opt-in to the future behavior, set `pd.set_option('future.no_silent_downcasting', True)`\n",
      "  df_f['sentiment_result'].replace(['POSITIVE','NEGATIVE'], [1,-1], inplace=True)\n"
     ]
    }
   ],
   "source": [
    "# Time each model\n",
    "times = []\n",
    "start = time.time()\n",
    "\n",
    "# Test flair\n",
    "df_f = df.copy().head(1000)\n",
    "\n",
    "# Convert body to Flair sentences\n",
    "df_f['sentence'] = df_f['clean_comment'].apply(lambda x: Sentence(x)) # type: ignore\n",
    "# Perform sentiment analysis\n",
    "df_f['sentence'].apply(lambda x: tagger.predict(x))\n",
    "df_f['sentiment_result'] = df_f['sentence'].apply(lambda x: x.labels[0].value)\n",
    "df_f['sentiment_score'] = df_f['sentence'].apply(lambda x: x.labels[0].score)\n",
    "df_f.drop(columns=['clean_comment', 'sentence'], inplace=True)\n",
    "df_f['sentiment_result'].replace(['POSITIVE','NEGATIVE'], [1,-1], inplace=True)\n",
    "\n",
    "times.append(time.time() - start)"
   ]
  },
  {
   "cell_type": "code",
   "execution_count": 154,
   "metadata": {},
   "outputs": [
    {
     "name": "stderr",
     "output_type": "stream",
     "text": [
      "/var/folders/bt/llk01x0n1ds62ww5wg13kz8m0000gn/T/ipykernel_10405/668732342.py:19: FutureWarning: A value is trying to be set on a copy of a DataFrame or Series through chained assignment using an inplace method.\n",
      "The behavior will change in pandas 3.0. This inplace method will never work because the intermediate object on which we are setting values always behaves as a copy.\n",
      "\n",
      "For example, when doing 'df[col].method(value, inplace=True)', try using 'df.method({col: value}, inplace=True)' or df[col] = df[col].method(value) instead, to perform the operation inplace on the original object.\n",
      "\n",
      "\n",
      "  df_hf['sentiment_result'].replace(['neutral','positive','negative'], [0,1,-1], inplace=True)\n",
      "/var/folders/bt/llk01x0n1ds62ww5wg13kz8m0000gn/T/ipykernel_10405/668732342.py:19: FutureWarning: Downcasting behavior in `replace` is deprecated and will be removed in a future version. To retain the old behavior, explicitly call `result.infer_objects(copy=False)`. To opt-in to the future behavior, set `pd.set_option('future.no_silent_downcasting', True)`\n",
      "  df_hf['sentiment_result'].replace(['neutral','positive','negative'], [0,1,-1], inplace=True)\n"
     ]
    }
   ],
   "source": [
    "start = time.time()\n",
    "# Test hugging face\n",
    "# Preprocess text ???\n",
    "df_hf = df.copy().head(1000)\n",
    "# tokenize\n",
    "df_hf['tokens'] = df_hf['clean_comment'].apply(lambda x: tokenizer(x, padding=True, truncation=True,\n",
    "                                                        max_length=512, return_tensors='pt'))\n",
    "df_hf['output'] = df_hf['tokens'].apply(lambda x: model(**x))\n",
    "df_hf['scores'] = df_hf['output'].apply(lambda x: softmax(x[0][0].detach().numpy()))\n",
    "df_hf['ranking'] = df_hf['scores'].apply(lambda x: x.argsort()[::-1])\n",
    "df_hf['sentiment_result'] = df_hf['ranking'].apply(lambda x: config.id2label[x[0]])\n",
    "df_hf['first_ranking'] = df_hf['ranking'].apply(lambda x: x[0])\n",
    "# only do the below if first_ranking isn't empty\n",
    "if not df_hf['first_ranking'].empty:\n",
    "    df_hf['sentiment_score'] = df_hf.apply(lambda x: x['scores'][x['first_ranking']], axis=1)\n",
    "#df['sentiment_score'] = df.apply(lambda x: x['scores'][x['ranking'][0]], axis=1)\n",
    "# Drop the intermediate columns\n",
    "df_hf.drop(columns=['clean_comment', 'tokens', 'output', 'scores', 'ranking'], inplace=True)\n",
    "df_hf['sentiment_result'].replace(['neutral','positive','negative'], [0,1,-1], inplace=True)\n",
    "\n",
    "times.append(time.time() - start)"
   ]
  },
  {
   "cell_type": "code",
   "execution_count": 155,
   "metadata": {},
   "outputs": [],
   "source": [
    "start = time.time()\n",
    "\n",
    "# Test Vader\n",
    "df_v = df.copy().head(1000)\n",
    "df_v['sentiment_tmp'] = df_v['clean_comment'].apply(lambda x: sia.polarity_scores(x))\n",
    "df_v['sentiment_score'] = df_v['sentiment_tmp'].apply(lambda x: x['compound'])\n",
    "df_v['sentiment_result'] = df_v['sentiment_score'].apply(lambda x: 1 if x >= 0.05 else (-1 if x <= -0.05 else 0))\n",
    "df_v.drop(columns=['sentiment_tmp', 'clean_comment'], inplace=True)\n",
    "\n",
    "times.append(time.time() - start)"
   ]
  },
  {
   "cell_type": "code",
   "execution_count": 156,
   "metadata": {},
   "outputs": [
    {
     "data": {
      "text/html": [
       "<div>\n",
       "<style scoped>\n",
       "    .dataframe tbody tr th:only-of-type {\n",
       "        vertical-align: middle;\n",
       "    }\n",
       "\n",
       "    .dataframe tbody tr th {\n",
       "        vertical-align: top;\n",
       "    }\n",
       "\n",
       "    .dataframe thead th {\n",
       "        text-align: right;\n",
       "    }\n",
       "</style>\n",
       "<table border=\"1\" class=\"dataframe\">\n",
       "  <thead>\n",
       "    <tr style=\"text-align: right;\">\n",
       "      <th></th>\n",
       "      <th>True Labels</th>\n",
       "      <th>Flair</th>\n",
       "      <th>Hugging Face</th>\n",
       "      <th>Vader</th>\n",
       "    </tr>\n",
       "  </thead>\n",
       "  <tbody>\n",
       "    <tr>\n",
       "      <th>0</th>\n",
       "      <td>1</td>\n",
       "      <td>1</td>\n",
       "      <td>0</td>\n",
       "      <td>1</td>\n",
       "    </tr>\n",
       "    <tr>\n",
       "      <th>1</th>\n",
       "      <td>1</td>\n",
       "      <td>-1</td>\n",
       "      <td>0</td>\n",
       "      <td>1</td>\n",
       "    </tr>\n",
       "    <tr>\n",
       "      <th>2</th>\n",
       "      <td>-1</td>\n",
       "      <td>-1</td>\n",
       "      <td>-1</td>\n",
       "      <td>1</td>\n",
       "    </tr>\n",
       "    <tr>\n",
       "      <th>3</th>\n",
       "      <td>0</td>\n",
       "      <td>-1</td>\n",
       "      <td>0</td>\n",
       "      <td>1</td>\n",
       "    </tr>\n",
       "    <tr>\n",
       "      <th>4</th>\n",
       "      <td>1</td>\n",
       "      <td>1</td>\n",
       "      <td>0</td>\n",
       "      <td>1</td>\n",
       "    </tr>\n",
       "    <tr>\n",
       "      <th>...</th>\n",
       "      <td>...</td>\n",
       "      <td>...</td>\n",
       "      <td>...</td>\n",
       "      <td>...</td>\n",
       "    </tr>\n",
       "    <tr>\n",
       "      <th>995</th>\n",
       "      <td>1</td>\n",
       "      <td>-1</td>\n",
       "      <td>0</td>\n",
       "      <td>1</td>\n",
       "    </tr>\n",
       "    <tr>\n",
       "      <th>996</th>\n",
       "      <td>1</td>\n",
       "      <td>1</td>\n",
       "      <td>0</td>\n",
       "      <td>1</td>\n",
       "    </tr>\n",
       "    <tr>\n",
       "      <th>997</th>\n",
       "      <td>0</td>\n",
       "      <td>-1</td>\n",
       "      <td>-1</td>\n",
       "      <td>-1</td>\n",
       "    </tr>\n",
       "    <tr>\n",
       "      <th>998</th>\n",
       "      <td>1</td>\n",
       "      <td>1</td>\n",
       "      <td>1</td>\n",
       "      <td>1</td>\n",
       "    </tr>\n",
       "    <tr>\n",
       "      <th>999</th>\n",
       "      <td>0</td>\n",
       "      <td>-1</td>\n",
       "      <td>0</td>\n",
       "      <td>1</td>\n",
       "    </tr>\n",
       "  </tbody>\n",
       "</table>\n",
       "<p>1000 rows × 4 columns</p>\n",
       "</div>"
      ],
      "text/plain": [
       "     True Labels  Flair  Hugging Face  Vader\n",
       "0              1      1             0      1\n",
       "1              1     -1             0      1\n",
       "2             -1     -1            -1      1\n",
       "3              0     -1             0      1\n",
       "4              1      1             0      1\n",
       "..           ...    ...           ...    ...\n",
       "995            1     -1             0      1\n",
       "996            1      1             0      1\n",
       "997            0     -1            -1     -1\n",
       "998            1      1             1      1\n",
       "999            0     -1             0      1\n",
       "\n",
       "[1000 rows x 4 columns]"
      ]
     },
     "execution_count": 156,
     "metadata": {},
     "output_type": "execute_result"
    }
   ],
   "source": [
    "true_vals = pd.DataFrame(df['category'].head(1000).copy())\n",
    "test_df = pd.concat([true_vals['category'],\n",
    "                     df_f['sentiment_result'], \n",
    "                     df_hf['sentiment_result'], \n",
    "                     df_v['sentiment_result']], axis=1, keys=['True Labels',\n",
    "                                                              'Flair', \n",
    "                                                              'Hugging Face',\n",
    "                                                              'Vader'])\n",
    "test_df"
   ]
  },
  {
   "cell_type": "code",
   "execution_count": 168,
   "metadata": {},
   "outputs": [
    {
     "data": {
      "image/png": "[encoded data removed]",
      "text/plain": [
       "<Figure size 640x480 with 1 Axes>"
      ]
     },
     "metadata": {},
     "output_type": "display_data"
    }
   ],
   "source": [
    "test_f = pd.concat([test_df['True Labels'], test_df['Flair']], axis=1)\n",
    "test_f['Match'] = test_f['Flair'].eq(test_f['True Labels'])\n",
    "test_fa = pd.DataFrame(test_f.groupby('True Labels').Match.mean().mul(100).round(2))\n",
    "test_fa['True Labels'] = ['Negative', 'Neutral', 'Positive']\n",
    "ax = sns.barplot(x=test_fa['True Labels'], y=test_fa['Match'])\n",
    "ax.set(xlabel='Sentiment', ylabel='Accuracy(%)', title='Flair Sentiment Accuracy')\n",
    "ax.set_ylim(0, 100)\n",
    "ax\n",
    "# plt.savefig('Flair Sentiment Accuracy')"
   ]
  },
  {
   "cell_type": "code",
   "execution_count": 167,
   "metadata": {},
   "outputs": [
    {
     "data": {
      "image/png": "[encoded data removed]",
      "text/plain": [
       "<Figure size 640x480 with 1 Axes>"
      ]
     },
     "metadata": {},
     "output_type": "display_data"
    }
   ],
   "source": [
    "test_hf = pd.concat([test_df['True Labels'], test_df['Hugging Face']], axis=1)\n",
    "test_hf['Match'] = test_hf['Hugging Face'].eq(test_hf['True Labels'])\n",
    "test_hfa = pd.DataFrame(test_hf.groupby('True Labels').Match.mean().mul(100).round(2))\n",
    "test_hfa['True Labels'] = ['Negative', 'Neutral', 'Positive']\n",
    "ax = sns.barplot(x=test_hfa['True Labels'], y=test_hfa['Match'])\n",
    "ax.set(xlabel='Sentiment', ylabel='Accuracy(%)', title='Twitter roBERTa Sentiment Accuracy')\n",
    "ax.set_ylim(0, 100)\n",
    "ax\n",
    "# plt.savefig('Twitter roBERTa Sentiment Accuracy')"
   ]
  },
  {
   "cell_type": "code",
   "execution_count": 169,
   "metadata": {},
   "outputs": [
    {
     "data": {
      "image/png": "[encoded data removed]",
      "text/plain": [
       "<Figure size 640x480 with 1 Axes>"
      ]
     },
     "metadata": {},
     "output_type": "display_data"
    }
   ],
   "source": [
    "test_v = pd.concat([test_df['True Labels'], test_df['Vader']], axis=1)\n",
    "test_v['Match'] = test_v['Vader'].eq(test_v['True Labels'])\n",
    "test_va = pd.DataFrame(test_v.groupby('True Labels').Match.mean().mul(100).round(2))\n",
    "test_va['True Labels'] = ['Negative', 'Neutral', 'Positive']\n",
    "ax = sns.barplot(x=test_va['True Labels'], y=test_va['Match'])\n",
    "ax.set(xlabel='Sentiment', ylabel='Accuracy(%)', title='Vader Sentiment Accuracy')\n",
    "ax.set_ylim(0, 100)\n",
    "ax\n",
    "# plt.savefig('Vader Sentiment Accuracy')"
   ]
  },
  {
   "cell_type": "code",
   "execution_count": 170,
   "metadata": {},
   "outputs": [
    {
     "data": {
      "image/png": "[encoded data removed]",
      "text/plain": [
       "<Figure size 640x480 with 1 Axes>"
      ]
     },
     "metadata": {},
     "output_type": "display_data"
    }
   ],
   "source": [
    "ax = sns.barplot(x=['Flair', 'Hugging Face', 'Vader'], y=times)\n",
    "ax.set(xlabel='Model', ylabel='Time(sec)', title='Model Time Per 1000 Posts')\n",
    "ax.set_ylim(0, 100)\n",
    "ax\n",
    "# plt.savefig('Model Time Per 1000 Posts')"
   ]
  }
 ],
 "metadata": {
  "kernelspec": {
   "display_name": ".venv",
   "language": "python",
   "name": "python3"
  },
  "language_info": {
   "codemirror_mode": {
    "name": "ipython",
    "version": 3
   },
   "file_extension": ".py",
   "mimetype": "text/x-python",
   "name": "python",
   "nbconvert_exporter": "python",
   "pygments_lexer": "ipython3",
   "version": "3.10.5"
  }
 },
 "nbformat": 4,
 "nbformat_minor": 2
}
